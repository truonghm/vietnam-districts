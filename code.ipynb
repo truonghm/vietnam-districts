{
 "cells": [
  {
   "cell_type": "code",
   "execution_count": 10,
   "metadata": {
    "ExecuteTime": {
     "end_time": "2020-10-18T14:24:15.100828Z",
     "start_time": "2020-10-18T14:24:14.218809Z"
    }
   },
   "outputs": [],
   "source": [
    "import requests\n",
    "from bs4 import BeautifulSoup as bs\n",
    "import pandas as pd\n",
    "from geopy.geocoders import Nominatim\n",
    "from geopy.extra.rate_limiter import RateLimiter"
   ]
  },
  {
   "cell_type": "code",
   "execution_count": 3,
   "metadata": {},
   "outputs": [],
   "source": [
    "df = pd.read_excel(r'D:\\OneDrive\\Personal\\OneDrive\\Projects\\vietnam-districts\\vietnam-districts.xlsx',sheet_name='Sheet1')"
   ]
  },
  {
   "cell_type": "code",
   "execution_count": 4,
   "metadata": {},
   "outputs": [],
   "source": [
    "url_dict = dict(zip(df['Geo_unit'], df['Wiki_URL'])) "
   ]
  },
  {
   "cell_type": "code",
   "execution_count": 5,
   "metadata": {
    "tags": []
   },
   "outputs": [],
   "source": [
    "area = []\n",
    "with requests.Session() as s:\n",
    "    for district, url in url_dict.items():\n",
    "        r = s.get(url)\n",
    "        soup = bs(r.content, 'lxml')\n",
    "        result = soup.select('table > tbody > tr > th + td:contains(km)')\n",
    "        if not result:\n",
    "            # print(district, 'failed')\n",
    "            l = [district, None]\n",
    "            area.append(l)\n",
    "        else:\n",
    "            # print(district, result[0].get_text(strip=True))\n",
    "            l = [district, result[0].get_text(strip=True).replace('\\xa0', ' ')]\n",
    "            area.append(l)"
   ]
  },
  {
   "cell_type": "code",
   "execution_count": 6,
   "metadata": {},
   "outputs": [],
   "source": [
    "area_df  = pd.DataFrame(area, columns=['Geo_unit', 'Area'])"
   ]
  },
  {
   "cell_type": "code",
   "execution_count": 7,
   "metadata": {},
   "outputs": [],
   "source": [
    "df = df.merge(area_df, how='left',on='Geo_unit')"
   ]
  },
  {
   "cell_type": "code",
   "execution_count": 11,
   "metadata": {},
   "outputs": [],
   "source": [
    "locator = Nominatim(user_agent=\"myGeocoder\")\n",
    "geocode = RateLimiter(locator.geocode, min_delay_seconds=1)\n",
    "df['location'] = df['Geo_unit_full_name'].apply(geocode)\n",
    "df['point'] = df['location'].apply(lambda loc: tuple(loc.point) if loc else None)\n",
    "df[['latitude', 'longitude', 'altitude']] = pd.DataFrame(df['point'].tolist(), index=df.index)\n",
    "\n",
    "df = df.drop(['point'], axis=1)"
   ]
  },
  {
   "cell_type": "code",
   "execution_count": 15,
   "metadata": {},
   "outputs": [],
   "source": [
    "df.drop(['Wiki_URL','location','altitude'], axis=1).to_csv(r'D:\\OneDrive\\Personal\\OneDrive\\Projects\\vietnam-districts\\vietnam-districts.csv')"
   ]
  }
 ],
 "metadata": {
  "kernelspec": {
   "name": "Python 3.8.5 64-bit ('py38-vietnam-districts': conda)",
   "display_name": "Python 3.8.5 64-bit ('py38-vietnam-districts': conda)",
   "metadata": {
    "interpreter": {
     "hash": "2a945ff2d2c1ffb0ee4d80e06545cb2234bfd2572c117e07ccc531b4164050dd"
    }
   }
  },
  "language_info": {
   "codemirror_mode": {
    "name": "ipython",
    "version": 3
   },
   "file_extension": ".py",
   "mimetype": "text/x-python",
   "name": "python",
   "nbconvert_exporter": "python",
   "pygments_lexer": "ipython3",
   "version": "3.8.5-final"
  },
  "varInspector": {
   "cols": {
    "lenName": 16,
    "lenType": 16,
    "lenVar": 40
   },
   "kernels_config": {
    "python": {
     "delete_cmd_postfix": "",
     "delete_cmd_prefix": "del ",
     "library": "var_list.py",
     "varRefreshCmd": "print(var_dic_list())"
    },
    "r": {
     "delete_cmd_postfix": ") ",
     "delete_cmd_prefix": "rm(",
     "library": "var_list.r",
     "varRefreshCmd": "cat(var_dic_list()) "
    }
   },
   "types_to_exclude": [
    "module",
    "function",
    "builtin_function_or_method",
    "instance",
    "_Feature"
   ],
   "window_display": false
  }
 },
 "nbformat": 4,
 "nbformat_minor": 4
}